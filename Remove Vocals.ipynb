{
 "cells": [
  {
   "cell_type": "code",
   "execution_count": 2,
   "metadata": {},
   "outputs": [
    {
     "name": "stdout",
     "output_type": "stream",
     "text": [
      "Collecting pydub\n",
      "  Downloading pydub-0.25.1-py2.py3-none-any.whl (32 kB)\n",
      "Installing collected packages: pydub\n",
      "Successfully installed pydub-0.25.1\n"
     ]
    }
   ],
   "source": [
    "!pip install pydub"
   ]
  },
  {
   "cell_type": "code",
   "execution_count": 8,
   "metadata": {},
   "outputs": [],
   "source": [
    "from pydub import AudioSegment\n",
    "from pydub.playback import play\n",
    "\n",
    "# read in audio file and get the two mono tracks\n",
    "sound_stereo = AudioSegment.from_file('temp.mp3')\n",
    "sound_monoL = sound_stereo.split_to_mono()[0]\n",
    "sound_monoR = sound_stereo.split_to_mono()[1]\n",
    "\n",
    "# Invert phase of the Right audio file\n",
    "sound_monoR_inv = sound_monoR.invert_phase()\n",
    "\n",
    "# Merge two L and R_inv files, this cancels out the centers\n",
    "sound_CentersOut = sound_monoL.overlay(sound_monoR_inv)\n",
    "\n",
    "# Export merged audio file\n",
    "fh = sound_CentersOut.export('temp_no_vocal.mp3', format=\"mp3\")"
   ]
  },
  {
   "cell_type": "code",
   "execution_count": null,
   "metadata": {},
   "outputs": [],
   "source": []
  }
 ],
 "metadata": {
  "kernelspec": {
   "display_name": "Python 3",
   "language": "python",
   "name": "python3"
  },
  "language_info": {
   "codemirror_mode": {
    "name": "ipython",
    "version": 3
   },
   "file_extension": ".py",
   "mimetype": "text/x-python",
   "name": "python",
   "nbconvert_exporter": "python",
   "pygments_lexer": "ipython3",
   "version": "3.8.8"
  }
 },
 "nbformat": 4,
 "nbformat_minor": 4
}
